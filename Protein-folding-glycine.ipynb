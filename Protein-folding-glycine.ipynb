{
 "cells": [
  {
   "cell_type": "code",
   "execution_count": 30,
   "id": "89dbac38-3da3-4a87-8bc0-2ea664fe6222",
   "metadata": {},
   "outputs": [],
   "source": [
    "import matplotlib.pyplot as plt\n",
    "import numpy as np\n",
    "from pyscf import ao2mo, fci, gto, mcscf, scf, tools\n",
    "from qiskit.quantum_info import SparsePauliOp\n",
    "\n",
    "\n"
   ]
  },
  {
   "cell_type": "code",
   "execution_count": 41,
   "id": "4c44f0ea-4f35-4900-aef9-7f4df67b29e5",
   "metadata": {},
   "outputs": [
    {
     "name": "stdout",
     "output_type": "stream",
     "text": [
      "SparsePauliOp(['XX', 'YY', 'ZZ'],\n",
      "              coeffs=[1.+0.j, 1.+0.j, 1.+0.j])\n"
     ]
    }
   ],
   "source": [
    "from qiskit.quantum_info import SparsePauliOp\n",
    " \n",
    "H = SparsePauliOp([\"XX\", \"YY\", \"ZZ\"], coeffs=[1.0 + 0.0j, 1.0 + 0.0j, 1.0 + 0.0j])\n",
    "print(H)"
   ]
  },
  {
   "cell_type": "code",
   "execution_count": 31,
   "id": "b577e01e-85e4-4388-b8de-036485e2b973",
   "metadata": {},
   "outputs": [],
   "source": [
    "def cholesky(V, eps):\n",
    "    # see https://arxiv.org/pdf/1711.02242.pdf section B2\n",
    "    # see https://arxiv.org/abs/1808.02625\n",
    "    # see https://arxiv.org/abs/2104.08957\n",
    "    no = V.shape[0]\n",
    "    chmax, ng = 20 * no, 0\n",
    "    W = V.reshape(no**2, no**2)\n",
    "    L = np.zeros((no**2, chmax))\n",
    "    Dmax = np.diagonal(W).copy()\n",
    "    nu_max = np.argmax(Dmax)\n",
    "    vmax = Dmax[nu_max]\n",
    "    while vmax > eps:\n",
    "        L[:, ng] = W[:, nu_max]\n",
    "        if ng > 0:\n",
    "            L[:, ng] -= np.dot(L[:, 0:ng], (L.T)[0:ng, nu_max])\n",
    "        L[:, ng] /= np.sqrt(vmax)\n",
    "        Dmax[: no**2] -= L[: no**2, ng] ** 2\n",
    "        ng += 1\n",
    "        nu_max = np.argmax(Dmax)\n",
    "        vmax = Dmax[nu_max]\n",
    "    L = L[:, :ng].reshape((no, no, ng))\n",
    "    print(\n",
    "        \"accuracy of Cholesky decomposition \",\n",
    "        np.abs(np.einsum(\"prg,qsg->prqs\", L, L) - V).max(),\n",
    "    )\n",
    "    return L, ng\n",
    "\n",
    "\n",
    "def identity(n):\n",
    "    return SparsePauliOp.from_list([(\"I\" * n, 1)])\n",
    "\n",
    "\n",
    "def creators_destructors(n, mapping=\"jordan_wigner\"):\n",
    "    c_list = []\n",
    "    if mapping == \"jordan_wigner\":\n",
    "        for p in range(n):\n",
    "            if p == 0:\n",
    "                l, r = \"I\" * (n - 1), \"\"\n",
    "            elif p == n - 1:\n",
    "                l, r = \"\", \"Z\" * (n - 1)\n",
    "            else:\n",
    "                l, r = \"I\" * (n - p - 1), \"Z\" * p\n",
    "            cp = SparsePauliOp.from_list([(l + \"X\" + r, 0.5), (l + \"Y\" + r, -0.5j)])\n",
    "            c_list.append(cp)\n",
    "    else:\n",
    "        raise ValueError(\"Unsupported mapping.\")\n",
    "    d_list = [cp.adjoint() for cp in c_list]\n",
    "    return c_list, d_list\n",
    "\n",
    "\n",
    "def build_hamiltonian(ecore: float, h1e: np.ndarray, h2e: np.ndarray) -> SparsePauliOp:\n",
    "    ncas, _ = h1e.shape\n",
    "\n",
    "    C, D = creators_destructors(2 * ncas, mapping=\"jordan_wigner\")\n",
    "    Exc = []\n",
    "    for p in range(ncas):\n",
    "        Excp = [C[p] @ D[p] + C[ncas + p] @ D[ncas + p]]\n",
    "        for r in range(p + 1, ncas):\n",
    "            Excp.append(\n",
    "                C[p] @ D[r]\n",
    "                + C[ncas + p] @ D[ncas + r]\n",
    "                + C[r] @ D[p]\n",
    "                + C[ncas + r] @ D[ncas + p]\n",
    "            )\n",
    "        Exc.append(Excp)\n",
    "\n",
    "    # low-rank decomposition of the Hamiltonian\n",
    "    Lop, ng = cholesky(h2e, 1e-6)\n",
    "    t1e = h1e - 0.5 * np.einsum(\"pxxr->pr\", h2e)\n",
    "\n",
    "    H = ecore * identity(2 * ncas)\n",
    "    # one-body term\n",
    "    for p in range(ncas):\n",
    "        for r in range(p, ncas):\n",
    "            H += t1e[p, r] * Exc[p][r - p]\n",
    "    # two-body term\n",
    "    for g in range(ng):\n",
    "        Lg = 0 * identity(2 * ncas)\n",
    "        for p in range(ncas):\n",
    "            for r in range(p, ncas):\n",
    "                Lg += Lop[p, r, g] * Exc[p][r - p]\n",
    "        H += 0.5 * Lg @ Lg\n",
    "\n",
    "    return H.chop().simplify()"
   ]
  },
  {
   "cell_type": "code",
   "execution_count": 35,
   "id": "bd054fe3-b872-44ce-960c-c5631307acbc",
   "metadata": {},
   "outputs": [
    {
     "data": {
      "text/plain": [
       "<pyscf.gto.mole.Mole at 0x710a909bd480>"
      ]
     },
     "execution_count": 35,
     "metadata": {},
     "output_type": "execute_result"
    }
   ],
   "source": [
    "mol.build(\n",
    "    verbose=0,\n",
    "    atom=[\n",
    "        [\"N\", (0.0, 0.0, 0.0)],\n",
    "        [\"H\", (0.0, 0.937, 0.381)],\n",
    "        [\"H\", (0.812, -0.468, 0.381)],\n",
    "        [\"H\", (-0.812, -0.468, 0.381)],\n",
    "    ],\n",
    "    basis=\"sto-6g\",\n",
    "    spin=0,\n",
    "    charge=0,\n",
    "    symmetry=False,  # Turn off symmetry\n",
    ")\n",
    "\n"
   ]
  },
  {
   "cell_type": "code",
   "execution_count": 37,
   "id": "0d15b5d6-ea7d-4a27-ab67-67048505aff2",
   "metadata": {},
   "outputs": [],
   "source": [
    "ncas = 4\n",
    "nelecas = (4, 4)\n",
    "mx = mcscf.CASCI(mf, ncas=ncas, nelecas=nelecas)\n",
    "\n",
    "E2 = mx.kernel()  # No sorting by irrep needed\n"
   ]
  },
  {
   "cell_type": "code",
   "execution_count": 38,
   "id": "eb55be11-227e-48b6-bb5b-75168e64952f",
   "metadata": {},
   "outputs": [
    {
     "name": "stdout",
     "output_type": "stream",
     "text": [
      "CASCI Energy: (-55.98833358818831, -20.107640884641683, FCIvector([[1.]]), NPArrayWithTag([[ 9.96086575e-01, -2.09384191e-01,  0.00000000e+00,\n",
      "                  8.41438531e-05, -8.26859327e-02, -1.69395865e-01,\n",
      "                 -4.82869957e-04,  2.26111857e-15],\n",
      "                [ 2.00321849e-02,  7.37639834e-01,  0.00000000e+00,\n",
      "                 -4.21093677e-04,  4.44798456e-01,  1.26959917e+00,\n",
      "                  3.80977142e-03, -1.69359901e-14],\n",
      "                [-8.65211650e-19, -3.12753850e-17,  5.95374569e-01,\n",
      "                 -1.57872026e-20,  2.04389487e-16, -1.43566566e-14,\n",
      "                  5.95719359e-14, -1.05313246e+00],\n",
      "                [ 4.19760203e-06,  1.76258194e-04,  0.00000000e+00,\n",
      "                  5.95523359e-01,  1.28622240e-04, -2.56336744e-03,\n",
      "                  1.05275643e+00,  5.95856661e-14],\n",
      "                [ 3.78186261e-03,  1.36705521e-01,  1.32199711e-16,\n",
      "                  8.06850382e-05, -8.93391739e-01,  5.66008072e-01,\n",
      "                  1.64540914e-03, -7.78718453e-15],\n",
      "                [-4.34449745e-03,  1.58247754e-01,  0.00000000e+00,\n",
      "                  4.93351771e-01, -1.21717643e-01, -7.15900259e-01,\n",
      "                 -1.00153596e+00, -4.69822919e-14],\n",
      "                [-4.34243204e-03,  1.58156356e-01,  4.27148498e-01,\n",
      "                 -2.46653519e-01, -1.21931220e-01, -7.20123020e-01,\n",
      "                  4.97553698e-01,  8.65414665e-01],\n",
      "                [-4.34243204e-03,  1.58156356e-01, -4.27148498e-01,\n",
      "                 -2.46653519e-01, -1.21931220e-01, -7.20123020e-01,\n",
      "                  4.97553698e-01, -8.65414665e-01]]), array([-15.50662598,  -1.09551016,  -0.5756213 ,  -0.57538326,\n",
      "        -0.3573125 ,   0.63315731,   0.72201882,   0.72227148]))\n",
      "Hamiltonian integrals ready for QC simulation.\n"
     ]
    }
   ],
   "source": [
    "# ----------------- Effective Hamiltonians -----------------\n",
    "h1e, ecore = mx.get_h1eff()\n",
    "h2e = ao2mo.restore(1, mx.get_h2eff(), mx.ncas)\n",
    "\n",
    "# ----------------- Build Fermionic Hamiltonian -----------------\n",
    "# Example build_hamiltonian function\n",
    "def build_hamiltonian(ecore, h1e, h2e):\n",
    "    \"\"\"\n",
    "    Simple Fermionic Hamiltonian in second quantization form:\n",
    "    H = sum_pq h1e[p,q] a^†_p a_q + 0.5 * sum_pqrs h2e[p,q,r,s] a^†_p a^†_q a_s a_r + Ecore\n",
    "    Here, we return the integral tensors; Qiskit can convert these to qubit Hamiltonian.\n",
    "    \"\"\"\n",
    "    H = {\n",
    "        \"ecore\": ecore,\n",
    "        \"h1e\": h1e,\n",
    "        \"h2e\": h2e\n",
    "    }\n",
    "    return H\n",
    "\n",
    "H = build_hamiltonian(ecore, h1e, h2e)\n",
    "\n",
    "print(\"CASCI Energy:\", E2)\n",
    "print(\"Hamiltonian integrals ready for QC simulation.\")"
   ]
  },
  {
   "cell_type": "code",
   "execution_count": 46,
   "id": "86467365-43f9-4863-9811-631ca1225932",
   "metadata": {},
   "outputs": [
    {
     "name": "stdout",
     "output_type": "stream",
     "text": [
      "1.2.4\n"
     ]
    }
   ],
   "source": [
    "import qiskit\n",
    "print (qiskit.__version__)\n"
   ]
  },
  {
   "cell_type": "code",
   "execution_count": 52,
   "id": "8e8d1930-9bc6-45bf-8688-0363a9e470f0",
   "metadata": {},
   "outputs": [],
   "source": [
    "from qiskit.circuit.library import EfficientSU2\n",
    "from scipy.optimize import minimize"
   ]
  },
  {
   "cell_type": "code",
   "execution_count": 58,
   "id": "4b1cc3f3-ed8b-4525-8d94-bf6d0d5be0f6",
   "metadata": {},
   "outputs": [
    {
     "name": "stdout",
     "output_type": "stream",
     "text": [
      "3\n"
     ]
    },
    {
     "data": {
      "image/png": "[encoded data removed]",
      "text/plain": [
       "<Figure size 370.906x200.667 with 1 Axes>"
      ]
     },
     "execution_count": 58,
     "metadata": {},
     "output_type": "execute_result"
    }
   ],
   "source": [
    "ansatz = EfficientSU2(H.num_qubits, su2_gates=[\"rx\"], entanglement=\"linear\", reps=1)\n",
    "x0 = 2 * np.pi * np.random.random(ansatz.num_parameters)\n",
    "print(ansatz.decompose().depth())\n",
    "ansatz.decompose().draw(\"mpl\")"
   ]
  },
  {
   "cell_type": "code",
   "execution_count": 60,
   "id": "86c0bf4b-58c5-4149-8148-e80c61892b99",
   "metadata": {},
   "outputs": [],
   "source": [
    "def cost_func(params, ansatz, H, estimator):\n",
    "    pub = (ansatz, [H], [params])\n",
    "    result = estimator.run(pubs=[pub]).result()\n",
    "    energy = result[0].data.evs[0]\n",
    "    return energy\n",
    " \n",
    " \n",
    "# def cost_func_sim(params, ansatz, H, estimator):\n",
    "#    energy = estimator.run(ansatz, H, parameter_values=params).result().values[0]\n",
    "#    return energy"
   ]
  },
  {
   "cell_type": "code",
   "execution_count": 64,
   "id": "623bfbbb-a9ef-4bce-a38c-35dea2f0d183",
   "metadata": {},
   "outputs": [
    {
     "ename": "TypeError",
     "evalue": "The backend argument requires a BackendV2 or BackendV1 object, not a <class 'str'> object",
     "output_type": "error",
     "traceback": [
      "\u001b[0;31m---------------------------------------------------------------------------\u001b[0m",
      "\u001b[0;31mTypeError\u001b[0m                                 Traceback (most recent call last)",
      "Cell \u001b[0;32mIn[64], line 8\u001b[0m\n\u001b[1;32m      5\u001b[0m \u001b[38;5;28;01mfrom\u001b[39;00m\u001b[38;5;250m \u001b[39m\u001b[38;5;21;01mqiskit\u001b[39;00m\u001b[38;5;21;01m.\u001b[39;00m\u001b[38;5;21;01mprimitives\u001b[39;00m\u001b[38;5;250m \u001b[39m\u001b[38;5;28;01mimport\u001b[39;00m BackendEstimatorV2\n\u001b[1;32m      7\u001b[0m \u001b[38;5;66;03m# generate a simulator that mimics the real quantum system\u001b[39;00m\n\u001b[0;32m----> 8\u001b[0m backend_sim \u001b[38;5;241m=\u001b[39m \u001b[43mAerSimulator\u001b[49m\u001b[38;5;241;43m.\u001b[39;49m\u001b[43mfrom_backend\u001b[49m\u001b[43m(\u001b[49m\u001b[38;5;124;43m\"\u001b[39;49m\u001b[38;5;124;43mBackendV2\u001b[39;49m\u001b[38;5;124;43m\"\u001b[39;49m\u001b[43m)\u001b[49m\n\u001b[1;32m      9\u001b[0m estimator \u001b[38;5;241m=\u001b[39m BackendEstimatorV2(backend\u001b[38;5;241m=\u001b[39mbackend_sim)\n",
      "File \u001b[0;32m~/.local/lib/python3.10/site-packages/qiskit_aer/backends/aer_simulator.py:880\u001b[0m, in \u001b[0;36mAerSimulator.from_backend\u001b[0;34m(cls, backend, **options)\u001b[0m\n\u001b[1;32m    878\u001b[0m     target \u001b[38;5;241m=\u001b[39m convert_to_target(configuration, properties, \u001b[38;5;28;01mNone\u001b[39;00m, NAME_MAPPING)\n\u001b[1;32m    879\u001b[0m \u001b[38;5;28;01melse\u001b[39;00m:\n\u001b[0;32m--> 880\u001b[0m     \u001b[38;5;28;01mraise\u001b[39;00m \u001b[38;5;167;01mTypeError\u001b[39;00m(\n\u001b[1;32m    881\u001b[0m         \u001b[38;5;124m\"\u001b[39m\u001b[38;5;124mThe backend argument requires a BackendV2 or BackendV1 object, \u001b[39m\u001b[38;5;124m\"\u001b[39m\n\u001b[1;32m    882\u001b[0m         \u001b[38;5;124mf\u001b[39m\u001b[38;5;124m\"\u001b[39m\u001b[38;5;124mnot a \u001b[39m\u001b[38;5;132;01m{\u001b[39;00m\u001b[38;5;28mtype\u001b[39m(backend)\u001b[38;5;132;01m}\u001b[39;00m\u001b[38;5;124m object\u001b[39m\u001b[38;5;124m\"\u001b[39m\n\u001b[1;32m    883\u001b[0m     )\n\u001b[1;32m    884\u001b[0m \u001b[38;5;66;03m# Use automatic noise model if none is provided\u001b[39;00m\n\u001b[1;32m    885\u001b[0m \u001b[38;5;28;01mif\u001b[39;00m \u001b[38;5;124m\"\u001b[39m\u001b[38;5;124mnoise_model\u001b[39m\u001b[38;5;124m\"\u001b[39m \u001b[38;5;129;01mnot\u001b[39;00m \u001b[38;5;129;01min\u001b[39;00m options:\n\u001b[1;32m    886\u001b[0m     \u001b[38;5;66;03m# pylint: disable=import-outside-toplevel\u001b[39;00m\n\u001b[1;32m    887\u001b[0m     \u001b[38;5;66;03m# Avoid cyclic import\u001b[39;00m\n",
      "\u001b[0;31mTypeError\u001b[0m: The backend argument requires a BackendV2 or BackendV1 object, not a <class 'str'> object"
     ]
    }
   ],
   "source": [
    "# We will start by using a local simulator\n",
    "from qiskit_aer import AerSimulator\n",
    " \n",
    "# Import an estimator, this time from qiskit (we will import from Runtime for real hardware)\n",
    "from qiskit.primitives import BackendEstimatorV2\n",
    " \n",
    "# generate a simulator that mimics the real quantum system\n",
    "backend_sim = AerSimulator.from_backend(\"BackendV2\")\n",
    "estimator = BackendEstimatorV2(backend=backend_sim)"
   ]
  },
  {
   "cell_type": "code",
   "execution_count": null,
   "id": "087b1b50-ffd4-4616-b395-6fc72fd13ce9",
   "metadata": {},
   "outputs": [],
   "source": []
  }
 ],
 "metadata": {
  "kernelspec": {
   "display_name": "Python 3 (ipykernel)",
   "language": "python",
   "name": "python3"
  },
  "language_info": {
   "codemirror_mode": {
    "name": "ipython",
    "version": 3
   },
   "file_extension": ".py",
   "mimetype": "text/x-python",
   "name": "python",
   "nbconvert_exporter": "python",
   "pygments_lexer": "ipython3",
   "version": "3.10.12"
  }
 },
 "nbformat": 4,
 "nbformat_minor": 5
}
